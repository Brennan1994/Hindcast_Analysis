{
 "cells": [
  {
   "cell_type": "markdown",
   "metadata": {},
   "source": [
    "This script will assess daily ensemble hindcast data provided by the NWS. It will read the daily .xml files, calculate the cumulative volume over the first 5 days, for each of the 60 forcasts published  each day, and report those volumes to a .csv."
   ]
  },
  {
   "cell_type": "code",
   "execution_count": 2,
   "metadata": {},
   "outputs": [],
   "source": [
    "#User Entry\n",
    "targetFile = r\"C:\\Users\\q0hecbbb\\Projects\\Hindcast Data\\WorkingFolder\\1985020812_LAMC1_HEFS.xml\"\n"
   ]
  },
  {
   "cell_type": "code",
   "execution_count": 3,
   "metadata": {},
   "outputs": [],
   "source": [
    "#Imported Libraries\n",
    "import pandas as pd\n",
    "import xml.etree.ElementTree as et\n",
    "import io\n",
    "import statistics\n",
    "import numpy as np\n",
    "\n",
    "# Methods\n",
    "def kcfs2acFtHour(foo):\n",
    "    return (foo*1000*3600/43560)\n",
    "\n",
    "# Read XML\n",
    "tree = et.parse(targetFile)\n",
    "root = tree.getroot()\n",
    "seriesCount = 1\n",
    "data = []\n",
    "for eachSeries in root[1:]:\n",
    "    seriesID = seriesCount\n",
    "    seriesCount = seriesCount + 1\n",
    "    for eachEvent in eachSeries[1:]:\n",
    "        eachEvent.attrib['seriesID'] = seriesID\n",
    "        data.append(eachEvent.attrib)\n",
    "df = pd.DataFrame(data)\n",
    "\n",
    "#Save forecast Date\n",
    "forecastDate = df.date[0]\n",
    "\n",
    "#Prep Dataframe\n",
    "df['value'] = df['value'].astype(float)\n",
    "df['value'] = df['value'].apply(kcfs2acFtHour)\n",
    "df = df.set_index('seriesID')\n",
    "\n",
    "#Main\n",
    "numSeries = (seriesCount)\n",
    "day1List = []\n",
    "day2List = []\n",
    "day3List = []\n",
    "day4List = []\n",
    "day5List = []\n",
    "outputList = []\n",
    "masterDictionary = {}\n",
    "\n",
    "\n",
    "for num in range(1, 62):\n",
    "    hours = 24\n",
    "    \n",
    "    currentSeries = df.loc[num]\n",
    "    currentSeries = currentSeries.iloc[1:]\n",
    "    \n",
    "    day1List.append(currentSeries.value.head(hours).sum(0))\n",
    "    hours = hours + 24\n",
    "    day2List.append(currentSeries.value.head(hours).sum(0))\n",
    "    hours = hours + 24\n",
    "    day3List.append(currentSeries.value.head(hours).sum(0))\n",
    "    hours = hours + 24\n",
    "    day4List.append(currentSeries.value.head(hours).sum(0))\n",
    "    hours = hours + 24\n",
    "    day5List.append(currentSeries.value.head(hours).sum(0))\n",
    "    \n",
    "listOflists = [day1List, day2List, day3List, day4List, day5List]\n",
    "for eachList in listOflists:\n",
    "        outputList.append(np.percentile(eachList, 50))\n",
    "    \n",
    "masterDictionary = {forecastDate : outputList}"
   ]
  },
  {
   "cell_type": "code",
   "execution_count": 4,
   "metadata": {},
   "outputs": [
    {
     "data": {
      "text/html": [
       "<div>\n",
       "<style scoped>\n",
       "    .dataframe tbody tr th:only-of-type {\n",
       "        vertical-align: middle;\n",
       "    }\n",
       "\n",
       "    .dataframe tbody tr th {\n",
       "        vertical-align: top;\n",
       "    }\n",
       "\n",
       "    .dataframe thead th {\n",
       "        text-align: right;\n",
       "    }\n",
       "</style>\n",
       "<table border=\"1\" class=\"dataframe\">\n",
       "  <thead>\n",
       "    <tr style=\"text-align: right;\">\n",
       "      <th></th>\n",
       "      <th>1985-02-08</th>\n",
       "    </tr>\n",
       "  </thead>\n",
       "  <tbody>\n",
       "    <tr>\n",
       "      <th>0</th>\n",
       "      <td>2248.616665</td>\n",
       "    </tr>\n",
       "    <tr>\n",
       "      <th>1</th>\n",
       "      <td>2683.014568</td>\n",
       "    </tr>\n",
       "    <tr>\n",
       "      <th>2</th>\n",
       "      <td>3009.659339</td>\n",
       "    </tr>\n",
       "    <tr>\n",
       "      <th>3</th>\n",
       "      <td>3969.729011</td>\n",
       "    </tr>\n",
       "    <tr>\n",
       "      <th>4</th>\n",
       "      <td>4596.348626</td>\n",
       "    </tr>\n",
       "  </tbody>\n",
       "</table>\n",
       "</div>"
      ],
      "text/plain": [
       "    1985-02-08\n",
       "0  2248.616665\n",
       "1  2683.014568\n",
       "2  3009.659339\n",
       "3  3969.729011\n",
       "4  4596.348626"
      ]
     },
     "execution_count": 4,
     "metadata": {},
     "output_type": "execute_result"
    }
   ],
   "source": [
    "dfout = pd.DataFrame(masterDictionary)\n",
    "dfout"
   ]
  },
  {
   "cell_type": "code",
   "execution_count": null,
   "metadata": {},
   "outputs": [],
   "source": []
  }
 ],
 "metadata": {
  "kernelspec": {
   "display_name": "Python 3",
   "language": "python",
   "name": "python3"
  },
  "language_info": {
   "codemirror_mode": {
    "name": "ipython",
    "version": 3
   },
   "file_extension": ".py",
   "mimetype": "text/x-python",
   "name": "python",
   "nbconvert_exporter": "python",
   "pygments_lexer": "ipython3",
   "version": "3.8.0"
  }
 },
 "nbformat": 4,
 "nbformat_minor": 4
}
