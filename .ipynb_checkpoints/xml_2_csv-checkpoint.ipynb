{
 "cells": [
  {
   "cell_type": "markdown",
   "metadata": {},
   "source": [
    "This script will ingest the Hindcast ensemble .xmls and write them out to .csv"
   ]
  },
  {
   "cell_type": "code",
   "execution_count": 18,
   "metadata": {},
   "outputs": [],
   "source": [
    "#Imported Libraries\n",
    "import pandas as pd\n",
    "import xml.etree.ElementTree as et\n",
    "import io\n",
    "import os\n",
    "import statistics\n",
    "import matplotlib\n",
    "from pandas_datareader import data\n",
    "import matplotlib.pyplot as plt\n",
    "import openpyxl\n",
    "%matplotlib inline\n",
    "import datetime\n",
    "import numpy as np\n",
    "\n",
    "def importForecastXML(fullFilePath):\n",
    "# Reads XML\n",
    "    tree = et.parse(fullFilePath)\n",
    "    root = tree.getroot()\n",
    "    seriesCount = 1\n",
    "    data = []\n",
    "    for eachSeries in root[1:]:\n",
    "        seriesID = seriesCount\n",
    "        seriesCount = seriesCount + 1\n",
    "        for eachEvent in eachSeries[1:]:\n",
    "            eachEvent.attrib['seriesID'] = seriesID\n",
    "            data.append(eachEvent.attrib)\n",
    "    df = pd.DataFrame(data)\n",
    "    #Sets values as floats so we can do math on them.\n",
    "    df['value'] = df['value'].astype(float)\n",
    "    df = df.set_index('seriesID')\n",
    "    return df"
   ]
  },
  {
   "cell_type": "code",
   "execution_count": 19,
   "metadata": {},
   "outputs": [],
   "source": [
    " directoryList = [\n",
    "                  r'C:\\Users\\q0hecbbb\\Projects\\Hindcast Data\\LM FVA HEMP - Forecasts\\Hindcasts\\2010-2017\\HOPC1'\n",
    "#                 r\"C:\\Users\\q0hecbbb\\Projects\\Hindcast Data\\LM FVA HEMP - Forecasts\\Hindcasts\\Mar1995\\200\\HOPC1\\Local\",\n",
    "#                  r\"C:\\Users\\q0hecbbb\\Projects\\Hindcast Data\\LM FVA HEMP - Forecasts\\Hindcasts\\Mar1995\\500\\HOPC1\\Local\",\n",
    "#                  r\"C:\\Users\\q0hecbbb\\Projects\\Hindcast Data\\LM FVA HEMP - Forecasts\\Hindcasts\\Additional200500\\200\\HOPC1\\Local\",\n",
    "#                  r\"C:\\Users\\q0hecbbb\\Projects\\Hindcast Data\\LM FVA HEMP - Forecasts\\Hindcasts\\Additional200500\\500\\HOPC1\\Local\"\n",
    "                 ]\n",
    "#                 r\"C:\\Users\\q0hecbbb\\Projects\\Hindcast Data\\LM FVA HEMP - Forecasts\\Hindcasts\\2010-2017\\LAMC1\",\n",
    "#                 r\"C:\\Users\\q0hecbbb\\Projects\\Hindcast Data\\LM FVA HEMP - Forecasts\\Hindcasts\\Mar1995\\200\\LAMC1\",\n",
    "#                 r\"C:\\Users\\q0hecbbb\\Projects\\Hindcast Data\\LM FVA HEMP - Forecasts\\Hindcasts\\Mar1995\\500\\LAMC1\",\n",
    "#                  r\"C:\\Users\\q0hecbbb\\Projects\\Hindcast Data\\LM FVA HEMP - Forecasts\\Hindcasts\\Scaled 200y\\1986_200yr_hindcasts\\LAMC1\",\n",
    "#                  r\"C:\\Users\\q0hecbbb\\Projects\\Hindcast Data\\LM FVA HEMP - Forecasts\\Hindcasts\\Scaled 200y\\1997_200yr_hindcasts\\LAMC1\",\n",
    "#                  r\"C:\\Users\\q0hecbbb\\Projects\\Hindcast Data\\LM FVA HEMP - Forecasts\\Hindcasts\\Scaled 200y\\2006_200yr_hindcasts\\LAMC1\",\n",
    "#                  r\"C:\\Users\\q0hecbbb\\Projects\\Hindcast Data\\LM FVA HEMP - Forecasts\\Hindcasts\\Scaled 500y\\1986_500yr_hindcasts\\LAMC1\",\n",
    "#                  r\"C:\\Users\\q0hecbbb\\Projects\\Hindcast Data\\LM FVA HEMP - Forecasts\\Hindcasts\\Scaled 500y\\1997_500yr_hindcasts\\LAMC1\",\n",
    "#                  r\"C:\\Users\\q0hecbbb\\Projects\\Hindcast Data\\LM FVA HEMP - Forecasts\\Hindcasts\\Scaled 500y\\2006_500yr_hindcasts\\LAMC1\",]\n",
    "\n",
    "#directoryList = [r\"C:\\Users\\q0hecbbb\\Projects\\Hindcast Data\\LM FVA HEMP - Forecasts\\Hindcasts\\Additional200500\\200\\LAMC1\",\n",
    "#                r\"C:\\Users\\q0hecbbb\\Projects\\Hindcast Data\\LM FVA HEMP - Forecasts\\Hindcasts\\Additional200500\\500\\LAMC1\"]"
   ]
  },
  {
   "cell_type": "code",
   "execution_count": 21,
   "metadata": {},
   "outputs": [
    {
     "name": "stdout",
     "output_type": "stream",
     "text": [
      "Done!\n"
     ]
    }
   ],
   "source": [
    "#Main\n",
    "for eachDirectory in directoryList:\n",
    "    for targetFile in os.listdir(eachDirectory):\n",
    "        if targetFile == 'desktop.ini':\n",
    "            continue\n",
    "        else:\n",
    "            df = importForecastXML(eachDirectory + '\\\\' + targetFile)\n",
    "            splitName = eachDirectory.split('\\\\') \n",
    "            time = splitName[7]\n",
    "            flood = splitName[8]\n",
    "            df.to_csv(r'C:\\Users\\q0hecbbb\\Projects\\Hindcast Data\\Batch_Out\\\\'+time+flood+'_csv'+'\\\\'+targetFile+'.csv')\n",
    "    print(\"Done!\")"
   ]
  }
 ],
 "metadata": {
  "kernelspec": {
   "display_name": "Python 3",
   "language": "python",
   "name": "python3"
  },
  "language_info": {
   "codemirror_mode": {
    "name": "ipython",
    "version": 3
   },
   "file_extension": ".py",
   "mimetype": "text/x-python",
   "name": "python",
   "nbconvert_exporter": "python",
   "pygments_lexer": "ipython3",
   "version": "3.8.0"
  }
 },
 "nbformat": 4,
 "nbformat_minor": 4
}
