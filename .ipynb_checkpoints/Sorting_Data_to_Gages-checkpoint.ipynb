{
 "cells": [
  {
   "cell_type": "code",
   "execution_count": 4,
   "metadata": {},
   "outputs": [],
   "source": [
    "#Imported Libraries\n",
    "import pandas as pd\n",
    "import xml.etree.ElementTree as et\n",
    "import io\n",
    "import os\n",
    "import statistics\n",
    "import matplotlib\n",
    "from pandas_datareader import data\n",
    "import matplotlib.pyplot as plt\n",
    "import openpyxl\n",
    "%matplotlib inline\n",
    "import datetime\n",
    "import numpy as np\n",
    "from shutil import copyfile\n",
    "\n",
    "def onlyFilesFromDir(path):\n",
    "    for file in os.listdir(path):\n",
    "        if os.path.isfile(os.path.join(path, file)):\n",
    "            yield file"
   ]
  },
  {
   "cell_type": "code",
   "execution_count": 5,
   "metadata": {},
   "outputs": [],
   "source": [
    "#User Entry\n",
    "# directoryList = [r\"C:\\Users\\q0hecbbb\\Projects\\Hindcast Data\\LM FVA HEMP - Forecasts\\Hindcasts\\TestGround\",\n",
    "#                  r\"C:\\Users\\q0hecbbb\\Projects\\Hindcast Data\\LM FVA HEMP - Forecasts\\Hindcasts\\2010-2017\",\n",
    "#                  r\"C:\\Users\\q0hecbbb\\Projects\\Hindcast Data\\LM FVA HEMP - Forecasts\\Hindcasts\\Mar1995\\200\",\n",
    "#                  r\"C:\\Users\\q0hecbbb\\Projects\\Hindcast Data\\LM FVA HEMP - Forecasts\\Hindcasts\\Mar1995\\500\",\n",
    "#                  r\"C:\\Users\\q0hecbbb\\Projects\\Hindcast Data\\LM FVA HEMP - Forecasts\\Hindcasts\\Scaled 200y\\1986_200yr_hindcasts\",\n",
    "#                  r\"C:\\Users\\q0hecbbb\\Projects\\Hindcast Data\\LM FVA HEMP - Forecasts\\Hindcasts\\Scaled 200y\\1997_200yr_hindcasts\",\n",
    "#                  r\"C:\\Users\\q0hecbbb\\Projects\\Hindcast Data\\LM FVA HEMP - Forecasts\\Hindcasts\\Scaled 200y\\2006_200yr_hindcasts\",\n",
    "#                  r\"C:\\Users\\q0hecbbb\\Projects\\Hindcast Data\\LM FVA HEMP - Forecasts\\Hindcasts\\Scaled 500y\\1986_500yr_hindcasts\",\n",
    "#                  r\"C:\\Users\\q0hecbbb\\Projects\\Hindcast Data\\LM FVA HEMP - Forecasts\\Hindcasts\\Scaled 500y\\1997_500yr_hindcasts\",\n",
    "#                  r\"C:\\Users\\q0hecbbb\\Projects\\Hindcast Data\\LM FVA HEMP - Forecasts\\Hindcasts\\Scaled 500y\\2006_500yr_hindcasts\",]\n",
    "                 \n",
    "directoryList = [r\"C:\\Users\\q0hecbbb\\Projects\\Hindcast Data\\LM FVA HEMP - Forecasts\\Hindcasts\\Additional200500\\200\",\n",
    "                r\"C:\\Users\\q0hecbbb\\Projects\\Hindcast Data\\LM FVA HEMP - Forecasts\\Hindcasts\\Additional200500\\500\"]\n",
    "                 \n",
    "folders = ['CDLC1', 'HEAC1', 'HOPC1', 'LAMC1', 'RIOC1', 'UKAC1']"
   ]
  },
  {
   "cell_type": "code",
   "execution_count": 7,
   "metadata": {},
   "outputs": [
    {
     "name": "stdout",
     "output_type": "stream",
     "text": [
      "100\n",
      "200\n",
      "300\n",
      "C:\\Users\\q0hecbbb\\Projects\\Hindcast Data\\LM FVA HEMP - Forecasts\\Hindcasts\\Additional200500\\200 - FINISHED\n",
      "400\n",
      "500\n",
      "600\n",
      "700\n",
      "C:\\Users\\q0hecbbb\\Projects\\Hindcast Data\\LM FVA HEMP - Forecasts\\Hindcasts\\Additional200500\\500 - FINISHED\n"
     ]
    }
   ],
   "source": [
    "#Main\n",
    "count = 0\n",
    "for eachDirectory in directoryList:\n",
    "    for targetFile in onlyFilesFromDir(eachDirectory):\n",
    "        splitFile = targetFile.split(\"_\")\n",
    "        for each in folders:\n",
    "            if splitFile[1] == each:\n",
    "                copyfile(eachDirectory+\"\\\\\"+targetFile, eachDirectory+'\\\\'+each+'\\\\'+targetFile)\n",
    "                count = count + 1\n",
    "                if count % 100 == 0:\n",
    "                    print(count)\n",
    "    print(eachDirectory + ' - FINISHED')"
   ]
  }
 ],
 "metadata": {
  "kernelspec": {
   "display_name": "Python 3",
   "language": "python",
   "name": "python3"
  },
  "language_info": {
   "codemirror_mode": {
    "name": "ipython",
    "version": 3
   },
   "file_extension": ".py",
   "mimetype": "text/x-python",
   "name": "python",
   "nbconvert_exporter": "python",
   "pygments_lexer": "ipython3",
   "version": "3.8.0"
  }
 },
 "nbformat": 4,
 "nbformat_minor": 4
}
